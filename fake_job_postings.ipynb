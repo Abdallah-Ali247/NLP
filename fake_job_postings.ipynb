{
  "nbformat": 4,
  "nbformat_minor": 0,
  "metadata": {
    "colab": {
      "provenance": [],
      "toc_visible": true
    },
    "kernelspec": {
      "name": "python3",
      "display_name": "Python 3"
    },
    "language_info": {
      "name": "python"
    }
  },
  "cells": [
    {
      "cell_type": "markdown",
      "source": [
        "# Prepare Data\n"
      ],
      "metadata": {
        "id": "qLgBO0VIDZlw"
      }
    },
    {
      "cell_type": "code",
      "execution_count": 1,
      "metadata": {
        "id": "LCIF_xD_G2MX"
      },
      "outputs": [],
      "source": [
        "import numpy as np\n",
        "import pandas as pd\n",
        "import matplotlib.pyplot as plt"
      ]
    },
    {
      "cell_type": "code",
      "source": [
        "df = pd.read_csv(\"/content/fake_job_postings.csv\", index_col='job_id')\n",
        "df.head(3)"
      ],
      "metadata": {
        "colab": {
          "base_uri": "https://localhost:8080/",
          "height": 447
        },
        "id": "lTOsLkdpHP-i",
        "outputId": "43836a13-368d-4668-c96e-7f709fdee159"
      },
      "execution_count": 2,
      "outputs": [
        {
          "output_type": "execute_result",
          "data": {
            "text/plain": [
              "                                            title          location  \\\n",
              "job_id                                                                \n",
              "1                                Marketing Intern  US, NY, New York   \n",
              "2       Customer Service - Cloud Video Production    NZ, , Auckland   \n",
              "3         Commissioning Machinery Assistant (CMA)     US, IA, Wever   \n",
              "\n",
              "       department salary_range  \\\n",
              "job_id                           \n",
              "1       Marketing          NaN   \n",
              "2         Success          NaN   \n",
              "3             NaN          NaN   \n",
              "\n",
              "                                          company_profile  \\\n",
              "job_id                                                      \n",
              "1       We're Food52, and we've created a groundbreaki...   \n",
              "2       90 Seconds, the worlds Cloud Video Production ...   \n",
              "3       Valor Services provides Workforce Solutions th...   \n",
              "\n",
              "                                              description  \\\n",
              "job_id                                                      \n",
              "1       Food52, a fast-growing, James Beard Award-winn...   \n",
              "2       Organised - Focused - Vibrant - Awesome!Do you...   \n",
              "3       Our client, located in Houston, is actively se...   \n",
              "\n",
              "                                             requirements  \\\n",
              "job_id                                                      \n",
              "1       Experience with content management systems a m...   \n",
              "2       What we expect from you:Your key responsibilit...   \n",
              "3       Implement pre-commissioning and commissioning ...   \n",
              "\n",
              "                                                 benefits  telecommuting  \\\n",
              "job_id                                                                     \n",
              "1                                                     NaN              0   \n",
              "2       What you will get from usThrough being part of...              0   \n",
              "3                                                     NaN              0   \n",
              "\n",
              "        has_company_logo  has_questions employment_type required_experience  \\\n",
              "job_id                                                                        \n",
              "1                      1              0           Other          Internship   \n",
              "2                      1              0       Full-time      Not Applicable   \n",
              "3                      1              0             NaN                 NaN   \n",
              "\n",
              "       required_education                   industry          function  \\\n",
              "job_id                                                                   \n",
              "1                     NaN                        NaN         Marketing   \n",
              "2                     NaN  Marketing and Advertising  Customer Service   \n",
              "3                     NaN                        NaN               NaN   \n",
              "\n",
              "        fraudulent  \n",
              "job_id              \n",
              "1                0  \n",
              "2                0  \n",
              "3                0  "
            ],
            "text/html": [
              "\n",
              "  <div id=\"df-ee99c4ef-27e9-4d1a-b0b6-f68e092c2dff\">\n",
              "    <div class=\"colab-df-container\">\n",
              "      <div>\n",
              "<style scoped>\n",
              "    .dataframe tbody tr th:only-of-type {\n",
              "        vertical-align: middle;\n",
              "    }\n",
              "\n",
              "    .dataframe tbody tr th {\n",
              "        vertical-align: top;\n",
              "    }\n",
              "\n",
              "    .dataframe thead th {\n",
              "        text-align: right;\n",
              "    }\n",
              "</style>\n",
              "<table border=\"1\" class=\"dataframe\">\n",
              "  <thead>\n",
              "    <tr style=\"text-align: right;\">\n",
              "      <th></th>\n",
              "      <th>title</th>\n",
              "      <th>location</th>\n",
              "      <th>department</th>\n",
              "      <th>salary_range</th>\n",
              "      <th>company_profile</th>\n",
              "      <th>description</th>\n",
              "      <th>requirements</th>\n",
              "      <th>benefits</th>\n",
              "      <th>telecommuting</th>\n",
              "      <th>has_company_logo</th>\n",
              "      <th>has_questions</th>\n",
              "      <th>employment_type</th>\n",
              "      <th>required_experience</th>\n",
              "      <th>required_education</th>\n",
              "      <th>industry</th>\n",
              "      <th>function</th>\n",
              "      <th>fraudulent</th>\n",
              "    </tr>\n",
              "    <tr>\n",
              "      <th>job_id</th>\n",
              "      <th></th>\n",
              "      <th></th>\n",
              "      <th></th>\n",
              "      <th></th>\n",
              "      <th></th>\n",
              "      <th></th>\n",
              "      <th></th>\n",
              "      <th></th>\n",
              "      <th></th>\n",
              "      <th></th>\n",
              "      <th></th>\n",
              "      <th></th>\n",
              "      <th></th>\n",
              "      <th></th>\n",
              "      <th></th>\n",
              "      <th></th>\n",
              "      <th></th>\n",
              "    </tr>\n",
              "  </thead>\n",
              "  <tbody>\n",
              "    <tr>\n",
              "      <th>1</th>\n",
              "      <td>Marketing Intern</td>\n",
              "      <td>US, NY, New York</td>\n",
              "      <td>Marketing</td>\n",
              "      <td>NaN</td>\n",
              "      <td>We're Food52, and we've created a groundbreaki...</td>\n",
              "      <td>Food52, a fast-growing, James Beard Award-winn...</td>\n",
              "      <td>Experience with content management systems a m...</td>\n",
              "      <td>NaN</td>\n",
              "      <td>0</td>\n",
              "      <td>1</td>\n",
              "      <td>0</td>\n",
              "      <td>Other</td>\n",
              "      <td>Internship</td>\n",
              "      <td>NaN</td>\n",
              "      <td>NaN</td>\n",
              "      <td>Marketing</td>\n",
              "      <td>0</td>\n",
              "    </tr>\n",
              "    <tr>\n",
              "      <th>2</th>\n",
              "      <td>Customer Service - Cloud Video Production</td>\n",
              "      <td>NZ, , Auckland</td>\n",
              "      <td>Success</td>\n",
              "      <td>NaN</td>\n",
              "      <td>90 Seconds, the worlds Cloud Video Production ...</td>\n",
              "      <td>Organised - Focused - Vibrant - Awesome!Do you...</td>\n",
              "      <td>What we expect from you:Your key responsibilit...</td>\n",
              "      <td>What you will get from usThrough being part of...</td>\n",
              "      <td>0</td>\n",
              "      <td>1</td>\n",
              "      <td>0</td>\n",
              "      <td>Full-time</td>\n",
              "      <td>Not Applicable</td>\n",
              "      <td>NaN</td>\n",
              "      <td>Marketing and Advertising</td>\n",
              "      <td>Customer Service</td>\n",
              "      <td>0</td>\n",
              "    </tr>\n",
              "    <tr>\n",
              "      <th>3</th>\n",
              "      <td>Commissioning Machinery Assistant (CMA)</td>\n",
              "      <td>US, IA, Wever</td>\n",
              "      <td>NaN</td>\n",
              "      <td>NaN</td>\n",
              "      <td>Valor Services provides Workforce Solutions th...</td>\n",
              "      <td>Our client, located in Houston, is actively se...</td>\n",
              "      <td>Implement pre-commissioning and commissioning ...</td>\n",
              "      <td>NaN</td>\n",
              "      <td>0</td>\n",
              "      <td>1</td>\n",
              "      <td>0</td>\n",
              "      <td>NaN</td>\n",
              "      <td>NaN</td>\n",
              "      <td>NaN</td>\n",
              "      <td>NaN</td>\n",
              "      <td>NaN</td>\n",
              "      <td>0</td>\n",
              "    </tr>\n",
              "  </tbody>\n",
              "</table>\n",
              "</div>\n",
              "      <button class=\"colab-df-convert\" onclick=\"convertToInteractive('df-ee99c4ef-27e9-4d1a-b0b6-f68e092c2dff')\"\n",
              "              title=\"Convert this dataframe to an interactive table.\"\n",
              "              style=\"display:none;\">\n",
              "        \n",
              "  <svg xmlns=\"http://www.w3.org/2000/svg\" height=\"24px\"viewBox=\"0 0 24 24\"\n",
              "       width=\"24px\">\n",
              "    <path d=\"M0 0h24v24H0V0z\" fill=\"none\"/>\n",
              "    <path d=\"M18.56 5.44l.94 2.06.94-2.06 2.06-.94-2.06-.94-.94-2.06-.94 2.06-2.06.94zm-11 1L8.5 8.5l.94-2.06 2.06-.94-2.06-.94L8.5 2.5l-.94 2.06-2.06.94zm10 10l.94 2.06.94-2.06 2.06-.94-2.06-.94-.94-2.06-.94 2.06-2.06.94z\"/><path d=\"M17.41 7.96l-1.37-1.37c-.4-.4-.92-.59-1.43-.59-.52 0-1.04.2-1.43.59L10.3 9.45l-7.72 7.72c-.78.78-.78 2.05 0 2.83L4 21.41c.39.39.9.59 1.41.59.51 0 1.02-.2 1.41-.59l7.78-7.78 2.81-2.81c.8-.78.8-2.07 0-2.86zM5.41 20L4 18.59l7.72-7.72 1.47 1.35L5.41 20z\"/>\n",
              "  </svg>\n",
              "      </button>\n",
              "      \n",
              "  <style>\n",
              "    .colab-df-container {\n",
              "      display:flex;\n",
              "      flex-wrap:wrap;\n",
              "      gap: 12px;\n",
              "    }\n",
              "\n",
              "    .colab-df-convert {\n",
              "      background-color: #E8F0FE;\n",
              "      border: none;\n",
              "      border-radius: 50%;\n",
              "      cursor: pointer;\n",
              "      display: none;\n",
              "      fill: #1967D2;\n",
              "      height: 32px;\n",
              "      padding: 0 0 0 0;\n",
              "      width: 32px;\n",
              "    }\n",
              "\n",
              "    .colab-df-convert:hover {\n",
              "      background-color: #E2EBFA;\n",
              "      box-shadow: 0px 1px 2px rgba(60, 64, 67, 0.3), 0px 1px 3px 1px rgba(60, 64, 67, 0.15);\n",
              "      fill: #174EA6;\n",
              "    }\n",
              "\n",
              "    [theme=dark] .colab-df-convert {\n",
              "      background-color: #3B4455;\n",
              "      fill: #D2E3FC;\n",
              "    }\n",
              "\n",
              "    [theme=dark] .colab-df-convert:hover {\n",
              "      background-color: #434B5C;\n",
              "      box-shadow: 0px 1px 3px 1px rgba(0, 0, 0, 0.15);\n",
              "      filter: drop-shadow(0px 1px 2px rgba(0, 0, 0, 0.3));\n",
              "      fill: #FFFFFF;\n",
              "    }\n",
              "  </style>\n",
              "\n",
              "      <script>\n",
              "        const buttonEl =\n",
              "          document.querySelector('#df-ee99c4ef-27e9-4d1a-b0b6-f68e092c2dff button.colab-df-convert');\n",
              "        buttonEl.style.display =\n",
              "          google.colab.kernel.accessAllowed ? 'block' : 'none';\n",
              "\n",
              "        async function convertToInteractive(key) {\n",
              "          const element = document.querySelector('#df-ee99c4ef-27e9-4d1a-b0b6-f68e092c2dff');\n",
              "          const dataTable =\n",
              "            await google.colab.kernel.invokeFunction('convertToInteractive',\n",
              "                                                     [key], {});\n",
              "          if (!dataTable) return;\n",
              "\n",
              "          const docLinkHtml = 'Like what you see? Visit the ' +\n",
              "            '<a target=\"_blank\" href=https://colab.research.google.com/notebooks/data_table.ipynb>data table notebook</a>'\n",
              "            + ' to learn more about interactive tables.';\n",
              "          element.innerHTML = '';\n",
              "          dataTable['output_type'] = 'display_data';\n",
              "          await google.colab.output.renderOutput(dataTable, element);\n",
              "          const docLink = document.createElement('div');\n",
              "          docLink.innerHTML = docLinkHtml;\n",
              "          element.appendChild(docLink);\n",
              "        }\n",
              "      </script>\n",
              "    </div>\n",
              "  </div>\n",
              "  "
            ]
          },
          "metadata": {},
          "execution_count": 2
        }
      ]
    },
    {
      "cell_type": "markdown",
      "source": [
        "1. `title` : object (job title)\n",
        "2. `location` : object (job location)\n",
        "3. `department` : object (department within the company)\n",
        "4. `salary_range` : object (range of salary for the job)\n",
        "5. `company_profile` : object (description of the company)\n",
        "6. `description` : object (job description)\n",
        "7. `requirements` : object (job requirements)\n",
        "8. `benefits` : object (job benefits)\n",
        "9. `telecommuting` : int64 (indicator for whether the job offers telecommuting)\n",
        "10. `has_company_logo` : int64 (indicator for whether the company has a logo)\n",
        "11. `has_questions` : int64 (indicator for whether the job application has questions)\n",
        "12. `employment_type` : object (type of employment)\n",
        "13. `required_experience` : object (required experience for the job)\n",
        "14. `required_education` : object (required education for the job)\n",
        "15. `industry` : object (industry of the company)\n",
        "16. `function` : object (job function)\n",
        "17. `fraudulent` : int64 (indicator for whether the job posting is fraudulent)"
      ],
      "metadata": {
        "id": "Wrrs4_suKLSy"
      }
    },
    {
      "cell_type": "code",
      "source": [
        "df.info()"
      ],
      "metadata": {
        "colab": {
          "base_uri": "https://localhost:8080/"
        },
        "id": "mMKSKBmoHVAp",
        "outputId": "08f6b975-3a10-4cba-ee20-71e062e9a2e7"
      },
      "execution_count": 3,
      "outputs": [
        {
          "output_type": "stream",
          "name": "stdout",
          "text": [
            "<class 'pandas.core.frame.DataFrame'>\n",
            "Int64Index: 17880 entries, 1 to 17880\n",
            "Data columns (total 17 columns):\n",
            " #   Column               Non-Null Count  Dtype \n",
            "---  ------               --------------  ----- \n",
            " 0   title                17880 non-null  object\n",
            " 1   location             17534 non-null  object\n",
            " 2   department           6333 non-null   object\n",
            " 3   salary_range         2868 non-null   object\n",
            " 4   company_profile      14572 non-null  object\n",
            " 5   description          17879 non-null  object\n",
            " 6   requirements         15185 non-null  object\n",
            " 7   benefits             10670 non-null  object\n",
            " 8   telecommuting        17880 non-null  int64 \n",
            " 9   has_company_logo     17880 non-null  int64 \n",
            " 10  has_questions        17880 non-null  int64 \n",
            " 11  employment_type      14409 non-null  object\n",
            " 12  required_experience  10830 non-null  object\n",
            " 13  required_education   9775 non-null   object\n",
            " 14  industry             12977 non-null  object\n",
            " 15  function             11425 non-null  object\n",
            " 16  fraudulent           17880 non-null  int64 \n",
            "dtypes: int64(4), object(13)\n",
            "memory usage: 2.5+ MB\n"
          ]
        }
      ]
    },
    {
      "cell_type": "markdown",
      "source": [
        "## Work on `description` only"
      ],
      "metadata": {
        "id": "HYhZwdp5JTmd"
      }
    },
    {
      "cell_type": "code",
      "source": [
        "from sklearn.model_selection import train_test_split\n",
        "from sklearn.feature_extraction.text import CountVectorizer\n",
        "from sklearn.linear_model import LogisticRegression\n",
        "from sklearn.metrics import accuracy_score"
      ],
      "metadata": {
        "id": "6AyD8YYNKPK8"
      },
      "execution_count": 4,
      "outputs": []
    },
    {
      "cell_type": "code",
      "source": [
        "# Feature Selection \n",
        "df = df[['description', 'fraudulent']]"
      ],
      "metadata": {
        "id": "4_an0lMSMn8F"
      },
      "execution_count": 5,
      "outputs": []
    },
    {
      "cell_type": "code",
      "source": [
        "# Drop rows with missing description or fraudulent values\n",
        "df = df.dropna(subset=['description', 'fraudulent'])  \n",
        "df.isna().sum().sum()"
      ],
      "metadata": {
        "colab": {
          "base_uri": "https://localhost:8080/"
        },
        "id": "ItBaGXf8MFS0",
        "outputId": "98b6bc85-4572-490a-a20e-06b0c72e2596"
      },
      "execution_count": 6,
      "outputs": [
        {
          "output_type": "execute_result",
          "data": {
            "text/plain": [
              "0"
            ]
          },
          "metadata": {},
          "execution_count": 6
        }
      ]
    },
    {
      "cell_type": "code",
      "source": [
        "# features & Target split\n",
        "X = df['description']\n",
        "y = df['fraudulent']\n",
        "X.shape , y.shape"
      ],
      "metadata": {
        "colab": {
          "base_uri": "https://localhost:8080/"
        },
        "id": "jm2NlB4oMxWF",
        "outputId": "7b1f355d-c416-4743-d375-4a12f8e62bba"
      },
      "execution_count": 7,
      "outputs": [
        {
          "output_type": "execute_result",
          "data": {
            "text/plain": [
              "((17879,), (17879,))"
            ]
          },
          "metadata": {},
          "execution_count": 7
        }
      ]
    },
    {
      "cell_type": "markdown",
      "source": [
        "### Using `CountVectorizer`"
      ],
      "metadata": {
        "id": "kmcAuERmPKOV"
      }
    },
    {
      "cell_type": "markdown",
      "source": [
        "* The `CountVectorizer` class from `scikit-learn's` `feature_extraction`.\n",
        "* text module is used to `convert a collection of text` documents into a `matrix of token counts`. \n",
        "* It provides a simple way to preprocess text data and represent it as numerical features that can be used in machine learning models."
      ],
      "metadata": {
        "id": "2r4TkUOpPhw0"
      }
    },
    {
      "cell_type": "markdown",
      "source": [
        "**Here's a high-level overview of how CountVectorizer works:**\n",
        "\n",
        "\n",
        "---\n",
        "1. `Tokenization`: The CountVectorizer `first tokenizes the text data` by `breaking it into individual words or tokens`. \n",
        "  * It `removes punctuation and special characters` and `splits the text into a sequence of tokens based on whitespace`.\n",
        "\n",
        "2. `Vocabulary` Building: It then builds a vocabulary, which is a `mapping of each unique token in the corpus to a unique integer index`. \n",
        "  * This vocabulary is constructed `based on the training data`.\n",
        "\n",
        "3. `Encoding` : Once the vocabulary is built, the CountVectorizer `encodes each document as a vector of token counts`. \n",
        "  * For each document, it `counts the occurrence of each token` from the vocabulary and stores it in the corresponding position in the vector.\n",
        "\n",
        "4. `Sparse Matrix` : The resulting matrix is typically sparse since most documents only contain a subset of the available tokens. \n",
        "  * Therefore, the CountVectorizer `outputs a sparse matrix representation` to efficiently handle large feature spaces.\n",
        "\n"
      ],
      "metadata": {
        "id": "ZhjlPfiDP8Iz"
      }
    },
    {
      "cell_type": "code",
      "source": [
        "#Feature Vectorization \n",
        "vectorizer = CountVectorizer(stop_words='english')\n",
        "X_vec = vectorizer.fit_transform(X)\n",
        "print(X_vec.shape)"
      ],
      "metadata": {
        "colab": {
          "base_uri": "https://localhost:8080/"
        },
        "id": "xJLmHE9VNE9O",
        "outputId": "cb7e824c-f50e-4395-eedb-f9800a3fedf0"
      },
      "execution_count": 8,
      "outputs": [
        {
          "output_type": "stream",
          "name": "stdout",
          "text": [
            "(17879, 61934)\n"
          ]
        }
      ]
    },
    {
      "cell_type": "code",
      "source": [
        "# print any value\n",
        "print(X_vec[5])"
      ],
      "metadata": {
        "colab": {
          "base_uri": "https://localhost:8080/"
        },
        "id": "obUrHVEeNimg",
        "outputId": "9adfafc3-233c-40a1-fd78-86305798c908"
      },
      "execution_count": 9,
      "outputs": [
        {
          "output_type": "stream",
          "name": "stdout",
          "text": [
            "  (0, 20480)\t1\n",
            "  (0, 23364)\t1\n",
            "  (0, 5512)\t2\n",
            "  (0, 59139)\t1\n",
            "  (0, 59321)\t1\n",
            "  (0, 48779)\t1\n",
            "  (0, 52596)\t4\n",
            "  (0, 57607)\t1\n",
            "  (0, 51517)\t1\n",
            "  (0, 34914)\t2\n",
            "  (0, 21355)\t1\n",
            "  (0, 12968)\t3\n",
            "  (0, 47451)\t1\n",
            "  (0, 48448)\t1\n",
            "  (0, 1592)\t1\n",
            "  (0, 42453)\t1\n",
            "  (0, 7692)\t1\n",
            "  (0, 52267)\t1\n",
            "  (0, 51135)\t2\n",
            "  (0, 9732)\t1\n",
            "  (0, 23378)\t1\n",
            "  (0, 39012)\t2\n",
            "  (0, 35611)\t1\n",
            "  (0, 24213)\t5\n",
            "  (0, 42046)\t1\n",
            "  :\t:\n",
            "  (0, 55640)\t1\n",
            "  (0, 39921)\t1\n",
            "  (0, 32309)\t1\n",
            "  (0, 48408)\t1\n",
            "  (0, 1523)\t1\n",
            "  (0, 37486)\t1\n",
            "  (0, 42758)\t1\n",
            "  (0, 11924)\t1\n",
            "  (0, 2406)\t1\n",
            "  (0, 7655)\t1\n",
            "  (0, 29682)\t1\n",
            "  (0, 6509)\t1\n",
            "  (0, 41600)\t2\n",
            "  (0, 11165)\t1\n",
            "  (0, 15985)\t1\n",
            "  (0, 5876)\t1\n",
            "  (0, 25492)\t1\n",
            "  (0, 6905)\t1\n",
            "  (0, 38358)\t1\n",
            "  (0, 36425)\t1\n",
            "  (0, 29589)\t1\n",
            "  (0, 2602)\t1\n",
            "  (0, 1931)\t1\n",
            "  (0, 18760)\t1\n",
            "  (0, 17933)\t1\n"
          ]
        }
      ]
    },
    {
      "cell_type": "markdown",
      "source": [
        "### Split"
      ],
      "metadata": {
        "id": "gZBMA28VPUQT"
      }
    },
    {
      "cell_type": "code",
      "source": [
        "# train & test split \n",
        "X_train, X_test, y_train, y_test = train_test_split(X_vec, y, test_size=0.2, random_state=42)"
      ],
      "metadata": {
        "id": "CFy5F9ImNFQk"
      },
      "execution_count": 10,
      "outputs": []
    },
    {
      "cell_type": "code",
      "source": [
        "print(f'X_train : {X_train.shape}')\n",
        "print(f'X_test : {X_test.shape}')\n",
        "print(f'y_train : {y_train.shape}')\n",
        "print(f'y_test : {y_test.shape}')"
      ],
      "metadata": {
        "colab": {
          "base_uri": "https://localhost:8080/"
        },
        "id": "hEYnQt_UM1Es",
        "outputId": "99819d55-6e58-402d-be6e-6443da47d3b3"
      },
      "execution_count": 11,
      "outputs": [
        {
          "output_type": "stream",
          "name": "stdout",
          "text": [
            "X_train : (14303, 61934)\n",
            "X_test : (3576, 61934)\n",
            "y_train : (14303,)\n",
            "y_test : (3576,)\n"
          ]
        }
      ]
    },
    {
      "cell_type": "markdown",
      "source": [
        "### logistic Regression "
      ],
      "metadata": {
        "id": "2XdvPnRrOuIl"
      }
    },
    {
      "cell_type": "code",
      "source": [
        "#Model Training\n",
        "model = LogisticRegression()\n",
        "model.fit(X_train, y_train)"
      ],
      "metadata": {
        "colab": {
          "base_uri": "https://localhost:8080/",
          "height": 234
        },
        "id": "lY12FY56Oxuk",
        "outputId": "a994351a-60ea-492e-a420-f491a4fbe11e"
      },
      "execution_count": 12,
      "outputs": [
        {
          "output_type": "stream",
          "name": "stderr",
          "text": [
            "/usr/local/lib/python3.10/dist-packages/sklearn/linear_model/_logistic.py:458: ConvergenceWarning: lbfgs failed to converge (status=1):\n",
            "STOP: TOTAL NO. of ITERATIONS REACHED LIMIT.\n",
            "\n",
            "Increase the number of iterations (max_iter) or scale the data as shown in:\n",
            "    https://scikit-learn.org/stable/modules/preprocessing.html\n",
            "Please also refer to the documentation for alternative solver options:\n",
            "    https://scikit-learn.org/stable/modules/linear_model.html#logistic-regression\n",
            "  n_iter_i = _check_optimize_result(\n"
          ]
        },
        {
          "output_type": "execute_result",
          "data": {
            "text/plain": [
              "LogisticRegression()"
            ],
            "text/html": [
              "<style>#sk-container-id-1 {color: black;background-color: white;}#sk-container-id-1 pre{padding: 0;}#sk-container-id-1 div.sk-toggleable {background-color: white;}#sk-container-id-1 label.sk-toggleable__label {cursor: pointer;display: block;width: 100%;margin-bottom: 0;padding: 0.3em;box-sizing: border-box;text-align: center;}#sk-container-id-1 label.sk-toggleable__label-arrow:before {content: \"▸\";float: left;margin-right: 0.25em;color: #696969;}#sk-container-id-1 label.sk-toggleable__label-arrow:hover:before {color: black;}#sk-container-id-1 div.sk-estimator:hover label.sk-toggleable__label-arrow:before {color: black;}#sk-container-id-1 div.sk-toggleable__content {max-height: 0;max-width: 0;overflow: hidden;text-align: left;background-color: #f0f8ff;}#sk-container-id-1 div.sk-toggleable__content pre {margin: 0.2em;color: black;border-radius: 0.25em;background-color: #f0f8ff;}#sk-container-id-1 input.sk-toggleable__control:checked~div.sk-toggleable__content {max-height: 200px;max-width: 100%;overflow: auto;}#sk-container-id-1 input.sk-toggleable__control:checked~label.sk-toggleable__label-arrow:before {content: \"▾\";}#sk-container-id-1 div.sk-estimator input.sk-toggleable__control:checked~label.sk-toggleable__label {background-color: #d4ebff;}#sk-container-id-1 div.sk-label input.sk-toggleable__control:checked~label.sk-toggleable__label {background-color: #d4ebff;}#sk-container-id-1 input.sk-hidden--visually {border: 0;clip: rect(1px 1px 1px 1px);clip: rect(1px, 1px, 1px, 1px);height: 1px;margin: -1px;overflow: hidden;padding: 0;position: absolute;width: 1px;}#sk-container-id-1 div.sk-estimator {font-family: monospace;background-color: #f0f8ff;border: 1px dotted black;border-radius: 0.25em;box-sizing: border-box;margin-bottom: 0.5em;}#sk-container-id-1 div.sk-estimator:hover {background-color: #d4ebff;}#sk-container-id-1 div.sk-parallel-item::after {content: \"\";width: 100%;border-bottom: 1px solid gray;flex-grow: 1;}#sk-container-id-1 div.sk-label:hover label.sk-toggleable__label {background-color: #d4ebff;}#sk-container-id-1 div.sk-serial::before {content: \"\";position: absolute;border-left: 1px solid gray;box-sizing: border-box;top: 0;bottom: 0;left: 50%;z-index: 0;}#sk-container-id-1 div.sk-serial {display: flex;flex-direction: column;align-items: center;background-color: white;padding-right: 0.2em;padding-left: 0.2em;position: relative;}#sk-container-id-1 div.sk-item {position: relative;z-index: 1;}#sk-container-id-1 div.sk-parallel {display: flex;align-items: stretch;justify-content: center;background-color: white;position: relative;}#sk-container-id-1 div.sk-item::before, #sk-container-id-1 div.sk-parallel-item::before {content: \"\";position: absolute;border-left: 1px solid gray;box-sizing: border-box;top: 0;bottom: 0;left: 50%;z-index: -1;}#sk-container-id-1 div.sk-parallel-item {display: flex;flex-direction: column;z-index: 1;position: relative;background-color: white;}#sk-container-id-1 div.sk-parallel-item:first-child::after {align-self: flex-end;width: 50%;}#sk-container-id-1 div.sk-parallel-item:last-child::after {align-self: flex-start;width: 50%;}#sk-container-id-1 div.sk-parallel-item:only-child::after {width: 0;}#sk-container-id-1 div.sk-dashed-wrapped {border: 1px dashed gray;margin: 0 0.4em 0.5em 0.4em;box-sizing: border-box;padding-bottom: 0.4em;background-color: white;}#sk-container-id-1 div.sk-label label {font-family: monospace;font-weight: bold;display: inline-block;line-height: 1.2em;}#sk-container-id-1 div.sk-label-container {text-align: center;}#sk-container-id-1 div.sk-container {/* jupyter's `normalize.less` sets `[hidden] { display: none; }` but bootstrap.min.css set `[hidden] { display: none !important; }` so we also need the `!important` here to be able to override the default hidden behavior on the sphinx rendered scikit-learn.org. See: https://github.com/scikit-learn/scikit-learn/issues/21755 */display: inline-block !important;position: relative;}#sk-container-id-1 div.sk-text-repr-fallback {display: none;}</style><div id=\"sk-container-id-1\" class=\"sk-top-container\"><div class=\"sk-text-repr-fallback\"><pre>LogisticRegression()</pre><b>In a Jupyter environment, please rerun this cell to show the HTML representation or trust the notebook. <br />On GitHub, the HTML representation is unable to render, please try loading this page with nbviewer.org.</b></div><div class=\"sk-container\" hidden><div class=\"sk-item\"><div class=\"sk-estimator sk-toggleable\"><input class=\"sk-toggleable__control sk-hidden--visually\" id=\"sk-estimator-id-1\" type=\"checkbox\" checked><label for=\"sk-estimator-id-1\" class=\"sk-toggleable__label sk-toggleable__label-arrow\">LogisticRegression</label><div class=\"sk-toggleable__content\"><pre>LogisticRegression()</pre></div></div></div></div></div>"
            ]
          },
          "metadata": {},
          "execution_count": 12
        }
      ]
    },
    {
      "cell_type": "code",
      "source": [
        "#Model Evaluation\n",
        "y_pred = model.predict(X_test)\n",
        "accuracy = accuracy_score(y_test, y_pred)\n",
        "print(\"Accuracy:\", accuracy)"
      ],
      "metadata": {
        "colab": {
          "base_uri": "https://localhost:8080/"
        },
        "id": "N7P-Ulg5MFVD",
        "outputId": "065497ef-17a2-4cc4-afcc-bbce4136c223"
      },
      "execution_count": 13,
      "outputs": [
        {
          "output_type": "stream",
          "name": "stdout",
          "text": [
            "Accuracy: 0.9793064876957495\n"
          ]
        }
      ]
    },
    {
      "cell_type": "markdown",
      "source": [
        "### custom test"
      ],
      "metadata": {
        "id": "WAi4Aby0nt1e"
      }
    },
    {
      "cell_type": "code",
      "source": [
        "# create a sample test\n",
        "description = \"\"\"\n",
        "We are seeking a highly motivated and skilled Software Engineer to join our team. The ideal candidate should have a strong background in software development and a passion for building innovative solutions. As a Software Engineer, you will be responsible for designing and implementing software applications, collaborating with cross-functional teams, and ensuring the quality and performance of the software products. The role requires proficiency in programming languages such as Python, Java, or C++, along with experience in web development frameworks and databases. If you are eager to contribute to cutting-edge projects and work in a dynamic environment, we would love to hear from you. Apply now to join our team and make a significant impact!\n",
        "\"\"\""
      ],
      "metadata": {
        "id": "9pVUX4X_RsWk"
      },
      "execution_count": 16,
      "outputs": []
    },
    {
      "cell_type": "code",
      "source": [
        "# vectorize the description\n",
        "vec_sample = vectorizer.transform([description])\n",
        "print(vec_sample)"
      ],
      "metadata": {
        "colab": {
          "base_uri": "https://localhost:8080/"
        },
        "id": "K59cGcI7SFVT",
        "outputId": "1f77f6ce-26a2-47ee-ae27-be575006b42f"
      },
      "execution_count": 19,
      "outputs": [
        {
          "output_type": "stream",
          "name": "stdout",
          "text": [
            "  (0, 3872)\t1\n",
            "  (0, 3994)\t1\n",
            "  (0, 5615)\t1\n",
            "  (0, 7576)\t1\n",
            "  (0, 8266)\t1\n",
            "  (0, 10310)\t1\n",
            "  (0, 11914)\t1\n",
            "  (0, 12711)\t1\n",
            "  (0, 13158)\t1\n",
            "  (0, 13406)\t1\n",
            "  (0, 14728)\t1\n",
            "  (0, 15068)\t2\n",
            "  (0, 16877)\t1\n",
            "  (0, 16911)\t1\n",
            "  (0, 17083)\t1\n",
            "  (0, 18148)\t2\n",
            "  (0, 18384)\t1\n",
            "  (0, 18516)\t1\n",
            "  (0, 19756)\t1\n",
            "  (0, 21806)\t1\n",
            "  (0, 22066)\t1\n",
            "  (0, 24013)\t1\n",
            "  (0, 24230)\t1\n",
            "  (0, 24929)\t1\n",
            "  (0, 25222)\t1\n",
            "  :\t:\n",
            "  (0, 28623)\t1\n",
            "  (0, 29875)\t1\n",
            "  (0, 30280)\t1\n",
            "  (0, 33068)\t1\n",
            "  (0, 36974)\t1\n",
            "  (0, 37388)\t1\n",
            "  (0, 40605)\t1\n",
            "  (0, 40790)\t1\n",
            "  (0, 40932)\t1\n",
            "  (0, 41111)\t1\n",
            "  (0, 41914)\t1\n",
            "  (0, 42046)\t1\n",
            "  (0, 44393)\t1\n",
            "  (0, 45083)\t1\n",
            "  (0, 45820)\t1\n",
            "  (0, 47187)\t1\n",
            "  (0, 48166)\t1\n",
            "  (0, 48441)\t1\n",
            "  (0, 48952)\t5\n",
            "  (0, 49099)\t1\n",
            "  (0, 50858)\t1\n",
            "  (0, 52596)\t2\n",
            "  (0, 52807)\t1\n",
            "  (0, 58644)\t1\n",
            "  (0, 59321)\t1\n"
          ]
        }
      ]
    },
    {
      "cell_type": "code",
      "source": [
        "# get the prediction of the vec_sample\n",
        "predictions = model.predict(vec_sample)\n",
        "print(predictions)"
      ],
      "metadata": {
        "colab": {
          "base_uri": "https://localhost:8080/"
        },
        "id": "qVwbm4C3RyXb",
        "outputId": "bb28bf2a-604e-4710-d710-ffb01f2d9053"
      },
      "execution_count": 21,
      "outputs": [
        {
          "output_type": "stream",
          "name": "stdout",
          "text": [
            "[0]\n"
          ]
        }
      ]
    },
    {
      "cell_type": "code",
      "source": [
        "# Output the predictions\n",
        "if predictions[0] == 1:\n",
        "    print(\"fraudulent.\")\n",
        "else:\n",
        "    print(\"honest.\")"
      ],
      "metadata": {
        "colab": {
          "base_uri": "https://localhost:8080/"
        },
        "id": "BFEloDtkTHrE",
        "outputId": "895dd053-79e2-416d-c6ef-e3f6fcabadf1"
      },
      "execution_count": 22,
      "outputs": [
        {
          "output_type": "stream",
          "name": "stdout",
          "text": [
            "honest.\n"
          ]
        }
      ]
    },
    {
      "cell_type": "markdown",
      "source": [
        "## work on many Features "
      ],
      "metadata": {
        "id": "D21dINR_Vv0q"
      }
    },
    {
      "cell_type": "code",
      "source": [
        "import pandas as pd\n",
        "from sklearn.feature_extraction.text import CountVectorizer\n",
        "from sklearn.model_selection import train_test_split\n",
        "from sklearn.linear_model import LogisticRegression"
      ],
      "metadata": {
        "id": "s8CuQsz-mAWd"
      },
      "execution_count": 1,
      "outputs": []
    },
    {
      "cell_type": "code",
      "source": [
        "# Load the dataset\n",
        "df = pd.read_csv('fake_job_postings.csv')\n",
        "df.head(2)"
      ],
      "metadata": {
        "colab": {
          "base_uri": "https://localhost:8080/",
          "height": 315
        },
        "id": "pMQvmGwrVyXh",
        "outputId": "5a6661a5-9541-4904-edd8-b62086358d05"
      },
      "execution_count": 2,
      "outputs": [
        {
          "output_type": "execute_result",
          "data": {
            "text/plain": [
              "   job_id                                      title          location  \\\n",
              "0       1                           Marketing Intern  US, NY, New York   \n",
              "1       2  Customer Service - Cloud Video Production    NZ, , Auckland   \n",
              "\n",
              "  department salary_range                                    company_profile  \\\n",
              "0  Marketing          NaN  We're Food52, and we've created a groundbreaki...   \n",
              "1    Success          NaN  90 Seconds, the worlds Cloud Video Production ...   \n",
              "\n",
              "                                         description  \\\n",
              "0  Food52, a fast-growing, James Beard Award-winn...   \n",
              "1  Organised - Focused - Vibrant - Awesome!Do you...   \n",
              "\n",
              "                                        requirements  \\\n",
              "0  Experience with content management systems a m...   \n",
              "1  What we expect from you:Your key responsibilit...   \n",
              "\n",
              "                                            benefits  telecommuting  \\\n",
              "0                                                NaN              0   \n",
              "1  What you will get from usThrough being part of...              0   \n",
              "\n",
              "   has_company_logo  has_questions employment_type required_experience  \\\n",
              "0                 1              0           Other          Internship   \n",
              "1                 1              0       Full-time      Not Applicable   \n",
              "\n",
              "  required_education                   industry          function  fraudulent  \n",
              "0                NaN                        NaN         Marketing           0  \n",
              "1                NaN  Marketing and Advertising  Customer Service           0  "
            ],
            "text/html": [
              "\n",
              "  <div id=\"df-1ae81956-cef7-4d69-8db2-49967189585a\">\n",
              "    <div class=\"colab-df-container\">\n",
              "      <div>\n",
              "<style scoped>\n",
              "    .dataframe tbody tr th:only-of-type {\n",
              "        vertical-align: middle;\n",
              "    }\n",
              "\n",
              "    .dataframe tbody tr th {\n",
              "        vertical-align: top;\n",
              "    }\n",
              "\n",
              "    .dataframe thead th {\n",
              "        text-align: right;\n",
              "    }\n",
              "</style>\n",
              "<table border=\"1\" class=\"dataframe\">\n",
              "  <thead>\n",
              "    <tr style=\"text-align: right;\">\n",
              "      <th></th>\n",
              "      <th>job_id</th>\n",
              "      <th>title</th>\n",
              "      <th>location</th>\n",
              "      <th>department</th>\n",
              "      <th>salary_range</th>\n",
              "      <th>company_profile</th>\n",
              "      <th>description</th>\n",
              "      <th>requirements</th>\n",
              "      <th>benefits</th>\n",
              "      <th>telecommuting</th>\n",
              "      <th>has_company_logo</th>\n",
              "      <th>has_questions</th>\n",
              "      <th>employment_type</th>\n",
              "      <th>required_experience</th>\n",
              "      <th>required_education</th>\n",
              "      <th>industry</th>\n",
              "      <th>function</th>\n",
              "      <th>fraudulent</th>\n",
              "    </tr>\n",
              "  </thead>\n",
              "  <tbody>\n",
              "    <tr>\n",
              "      <th>0</th>\n",
              "      <td>1</td>\n",
              "      <td>Marketing Intern</td>\n",
              "      <td>US, NY, New York</td>\n",
              "      <td>Marketing</td>\n",
              "      <td>NaN</td>\n",
              "      <td>We're Food52, and we've created a groundbreaki...</td>\n",
              "      <td>Food52, a fast-growing, James Beard Award-winn...</td>\n",
              "      <td>Experience with content management systems a m...</td>\n",
              "      <td>NaN</td>\n",
              "      <td>0</td>\n",
              "      <td>1</td>\n",
              "      <td>0</td>\n",
              "      <td>Other</td>\n",
              "      <td>Internship</td>\n",
              "      <td>NaN</td>\n",
              "      <td>NaN</td>\n",
              "      <td>Marketing</td>\n",
              "      <td>0</td>\n",
              "    </tr>\n",
              "    <tr>\n",
              "      <th>1</th>\n",
              "      <td>2</td>\n",
              "      <td>Customer Service - Cloud Video Production</td>\n",
              "      <td>NZ, , Auckland</td>\n",
              "      <td>Success</td>\n",
              "      <td>NaN</td>\n",
              "      <td>90 Seconds, the worlds Cloud Video Production ...</td>\n",
              "      <td>Organised - Focused - Vibrant - Awesome!Do you...</td>\n",
              "      <td>What we expect from you:Your key responsibilit...</td>\n",
              "      <td>What you will get from usThrough being part of...</td>\n",
              "      <td>0</td>\n",
              "      <td>1</td>\n",
              "      <td>0</td>\n",
              "      <td>Full-time</td>\n",
              "      <td>Not Applicable</td>\n",
              "      <td>NaN</td>\n",
              "      <td>Marketing and Advertising</td>\n",
              "      <td>Customer Service</td>\n",
              "      <td>0</td>\n",
              "    </tr>\n",
              "  </tbody>\n",
              "</table>\n",
              "</div>\n",
              "      <button class=\"colab-df-convert\" onclick=\"convertToInteractive('df-1ae81956-cef7-4d69-8db2-49967189585a')\"\n",
              "              title=\"Convert this dataframe to an interactive table.\"\n",
              "              style=\"display:none;\">\n",
              "        \n",
              "  <svg xmlns=\"http://www.w3.org/2000/svg\" height=\"24px\"viewBox=\"0 0 24 24\"\n",
              "       width=\"24px\">\n",
              "    <path d=\"M0 0h24v24H0V0z\" fill=\"none\"/>\n",
              "    <path d=\"M18.56 5.44l.94 2.06.94-2.06 2.06-.94-2.06-.94-.94-2.06-.94 2.06-2.06.94zm-11 1L8.5 8.5l.94-2.06 2.06-.94-2.06-.94L8.5 2.5l-.94 2.06-2.06.94zm10 10l.94 2.06.94-2.06 2.06-.94-2.06-.94-.94-2.06-.94 2.06-2.06.94z\"/><path d=\"M17.41 7.96l-1.37-1.37c-.4-.4-.92-.59-1.43-.59-.52 0-1.04.2-1.43.59L10.3 9.45l-7.72 7.72c-.78.78-.78 2.05 0 2.83L4 21.41c.39.39.9.59 1.41.59.51 0 1.02-.2 1.41-.59l7.78-7.78 2.81-2.81c.8-.78.8-2.07 0-2.86zM5.41 20L4 18.59l7.72-7.72 1.47 1.35L5.41 20z\"/>\n",
              "  </svg>\n",
              "      </button>\n",
              "      \n",
              "  <style>\n",
              "    .colab-df-container {\n",
              "      display:flex;\n",
              "      flex-wrap:wrap;\n",
              "      gap: 12px;\n",
              "    }\n",
              "\n",
              "    .colab-df-convert {\n",
              "      background-color: #E8F0FE;\n",
              "      border: none;\n",
              "      border-radius: 50%;\n",
              "      cursor: pointer;\n",
              "      display: none;\n",
              "      fill: #1967D2;\n",
              "      height: 32px;\n",
              "      padding: 0 0 0 0;\n",
              "      width: 32px;\n",
              "    }\n",
              "\n",
              "    .colab-df-convert:hover {\n",
              "      background-color: #E2EBFA;\n",
              "      box-shadow: 0px 1px 2px rgba(60, 64, 67, 0.3), 0px 1px 3px 1px rgba(60, 64, 67, 0.15);\n",
              "      fill: #174EA6;\n",
              "    }\n",
              "\n",
              "    [theme=dark] .colab-df-convert {\n",
              "      background-color: #3B4455;\n",
              "      fill: #D2E3FC;\n",
              "    }\n",
              "\n",
              "    [theme=dark] .colab-df-convert:hover {\n",
              "      background-color: #434B5C;\n",
              "      box-shadow: 0px 1px 3px 1px rgba(0, 0, 0, 0.15);\n",
              "      filter: drop-shadow(0px 1px 2px rgba(0, 0, 0, 0.3));\n",
              "      fill: #FFFFFF;\n",
              "    }\n",
              "  </style>\n",
              "\n",
              "      <script>\n",
              "        const buttonEl =\n",
              "          document.querySelector('#df-1ae81956-cef7-4d69-8db2-49967189585a button.colab-df-convert');\n",
              "        buttonEl.style.display =\n",
              "          google.colab.kernel.accessAllowed ? 'block' : 'none';\n",
              "\n",
              "        async function convertToInteractive(key) {\n",
              "          const element = document.querySelector('#df-1ae81956-cef7-4d69-8db2-49967189585a');\n",
              "          const dataTable =\n",
              "            await google.colab.kernel.invokeFunction('convertToInteractive',\n",
              "                                                     [key], {});\n",
              "          if (!dataTable) return;\n",
              "\n",
              "          const docLinkHtml = 'Like what you see? Visit the ' +\n",
              "            '<a target=\"_blank\" href=https://colab.research.google.com/notebooks/data_table.ipynb>data table notebook</a>'\n",
              "            + ' to learn more about interactive tables.';\n",
              "          element.innerHTML = '';\n",
              "          dataTable['output_type'] = 'display_data';\n",
              "          await google.colab.output.renderOutput(dataTable, element);\n",
              "          const docLink = document.createElement('div');\n",
              "          docLink.innerHTML = docLinkHtml;\n",
              "          element.appendChild(docLink);\n",
              "        }\n",
              "      </script>\n",
              "    </div>\n",
              "  </div>\n",
              "  "
            ]
          },
          "metadata": {},
          "execution_count": 2
        }
      ]
    },
    {
      "cell_type": "code",
      "source": [
        "# handling missing values in description or fraudulent\n",
        "df = df.dropna(subset=['description', 'fraudulent'])"
      ],
      "metadata": {
        "id": "gwFXlqa9WECJ"
      },
      "execution_count": 3,
      "outputs": []
    },
    {
      "cell_type": "code",
      "source": [
        "# try to get only features have nulls < 4000\n",
        "feat = (df.isna().sum() < 4000).index [1:-1]\n",
        "list(feat)"
      ],
      "metadata": {
        "colab": {
          "base_uri": "https://localhost:8080/"
        },
        "id": "4EsnRTBzXBea",
        "outputId": "3e48a025-06d3-4181-f89b-39513b713850"
      },
      "execution_count": 4,
      "outputs": [
        {
          "output_type": "execute_result",
          "data": {
            "text/plain": [
              "['title',\n",
              " 'location',\n",
              " 'department',\n",
              " 'salary_range',\n",
              " 'company_profile',\n",
              " 'description',\n",
              " 'requirements',\n",
              " 'benefits',\n",
              " 'telecommuting',\n",
              " 'has_company_logo',\n",
              " 'has_questions',\n",
              " 'employment_type',\n",
              " 'required_experience',\n",
              " 'required_education',\n",
              " 'industry',\n",
              " 'function']"
            ]
          },
          "metadata": {},
          "execution_count": 4
        }
      ]
    },
    {
      "cell_type": "code",
      "source": [
        "# check remainning samples after dropna from selected feat\n",
        "df[feat].dropna().shape # data becom 774 sample from 18000"
      ],
      "metadata": {
        "colab": {
          "base_uri": "https://localhost:8080/"
        },
        "id": "rWqHuDXfaufJ",
        "outputId": "6ab47cf9-9193-4e2c-8b8d-f10397fb8290"
      },
      "execution_count": 5,
      "outputs": [
        {
          "output_type": "execute_result",
          "data": {
            "text/plain": [
              "(774, 16)"
            ]
          },
          "metadata": {},
          "execution_count": 5
        }
      ]
    },
    {
      "cell_type": "code",
      "source": [
        "# Select the columns of interest\n",
        "columns_of_interest = ['company_profile', 'description', 'requirements']"
      ],
      "metadata": {
        "id": "yfbHJ2ankGkl"
      },
      "execution_count": 6,
      "outputs": []
    },
    {
      "cell_type": "code",
      "source": [
        "# Extract the relevant data\n",
        "df_selected = df[columns_of_interest + ['fraudulent']].copy()\n",
        "df_selected.shape"
      ],
      "metadata": {
        "colab": {
          "base_uri": "https://localhost:8080/"
        },
        "id": "AOCytpcTkGnN",
        "outputId": "f15c0bfb-82f4-46fa-dd07-f33187084b4b"
      },
      "execution_count": 21,
      "outputs": [
        {
          "output_type": "execute_result",
          "data": {
            "text/plain": [
              "(17879, 4)"
            ]
          },
          "metadata": {},
          "execution_count": 21
        }
      ]
    },
    {
      "cell_type": "code",
      "source": [
        "# Fill missing values with empty string\n",
        "df_selected.fillna('', inplace=True)  "
      ],
      "metadata": {
        "id": "A7SelD26kGp1"
      },
      "execution_count": 22,
      "outputs": []
    },
    {
      "cell_type": "markdown",
      "source": [
        "### using CountVectorizer"
      ],
      "metadata": {
        "id": "XMsoYpSxm2EW"
      }
    },
    {
      "cell_type": "code",
      "source": [
        "# Apply CountVectorizer with stop words removal\n",
        "vectorizer = CountVectorizer(stop_words='english')\n",
        "X_sparse = vectorizer.fit_transform(df_selected['company_profile'] + ' ' +\n",
        "                                    df_selected['description'] + ' ' +\n",
        "                                    df_selected['requirements'])"
      ],
      "metadata": {
        "id": "JiTH4lOSkwtf"
      },
      "execution_count": 23,
      "outputs": []
    },
    {
      "cell_type": "code",
      "source": [
        "print(X_sparse.shape)\n",
        "print(X_sparse[0])"
      ],
      "metadata": {
        "colab": {
          "base_uri": "https://localhost:8080/"
        },
        "id": "-9kS8hdglIZJ",
        "outputId": "eecc4ab7-1766-419a-d0d3-b129962f860b"
      },
      "execution_count": 24,
      "outputs": [
        {
          "output_type": "stream",
          "name": "stdout",
          "text": [
            "(17879, 96661)\n",
            "  (0, 33409)\t7\n",
            "  (0, 89934)\t1\n",
            "  (0, 18917)\t1\n",
            "  (0, 36207)\t1\n",
            "  (0, 8456)\t2\n",
            "  (0, 92067)\t2\n",
            "  (0, 18247)\t4\n",
            "  (0, 75155)\t1\n",
            "  (0, 80528)\t3\n",
            "  (0, 17363)\t2\n",
            "  (0, 13192)\t1\n",
            "  (0, 37867)\t3\n",
            "  (0, 18254)\t2\n",
            "  (0, 52480)\t1\n",
            "  (0, 59350)\t1\n",
            "  (0, 26121)\t2\n",
            "  (0, 11556)\t1\n",
            "  (0, 27714)\t1\n",
            "  (0, 82155)\t2\n",
            "  (0, 33282)\t1\n",
            "  (0, 89486)\t1\n",
            "  (0, 83036)\t1\n",
            "  (0, 53094)\t4\n",
            "  (0, 9825)\t1\n",
            "  (0, 91232)\t1\n",
            "  :\t:\n",
            "  (0, 49215)\t1\n",
            "  (0, 86480)\t1\n",
            "  (0, 31641)\t1\n",
            "  (0, 59227)\t1\n",
            "  (0, 62552)\t1\n",
            "  (0, 77013)\t1\n",
            "  (0, 15480)\t1\n",
            "  (0, 25352)\t1\n",
            "  (0, 33808)\t1\n",
            "  (0, 59130)\t1\n",
            "  (0, 59300)\t1\n",
            "  (0, 53306)\t1\n",
            "  (0, 36167)\t1\n",
            "  (0, 71724)\t1\n",
            "  (0, 16236)\t1\n",
            "  (0, 24330)\t1\n",
            "  (0, 74691)\t1\n",
            "  (0, 15710)\t1\n",
            "  (0, 66678)\t1\n",
            "  (0, 92504)\t2\n",
            "  (0, 78644)\t1\n",
            "  (0, 29790)\t1\n",
            "  (0, 91575)\t1\n",
            "  (0, 46526)\t1\n",
            "  (0, 38104)\t1\n"
          ]
        }
      ]
    },
    {
      "cell_type": "code",
      "source": [
        "# try to convert sparse to dense array but this caused ram crach \n",
        "\"\"\"# Convert the sparse matrix to a dense matrix\n",
        "X_dense = X_sparse.toarray()\"\"\""
      ],
      "metadata": {
        "id": "RBEfIJ3Pkwv9"
      },
      "execution_count": 54,
      "outputs": []
    },
    {
      "cell_type": "code",
      "source": [
        "\"\"\"print(X_dense.shape)\n",
        "X_dense[0]\"\"\""
      ],
      "metadata": {
        "colab": {
          "base_uri": "https://localhost:8080/"
        },
        "id": "6VzoOWeHk56N",
        "outputId": "19ddc0ef-7ffa-4dea-a672-362b4d1f96f9"
      },
      "execution_count": 63,
      "outputs": [
        {
          "output_type": "stream",
          "name": "stdout",
          "text": [
            "(17879, 96661)\n"
          ]
        },
        {
          "output_type": "execute_result",
          "data": {
            "text/plain": [
              "array([0, 0, 0, ..., 0, 0, 0])"
            ]
          },
          "metadata": {},
          "execution_count": 63
        }
      ]
    },
    {
      "cell_type": "markdown",
      "source": [
        "### Split"
      ],
      "metadata": {
        "id": "TpjMnZvtm9pX"
      }
    },
    {
      "cell_type": "code",
      "source": [
        "# Split the data into training and testing sets\n",
        "X_train, X_test, y_train, y_test = train_test_split(X_sparse, df['fraudulent'], test_size=0.2, random_state=42)\n"
      ],
      "metadata": {
        "id": "uAcHS6rLkwyR"
      },
      "execution_count": 25,
      "outputs": []
    },
    {
      "cell_type": "code",
      "source": [
        "print(f'X_train : {X_train.shape}')\n",
        "print(f'X_test : {X_test.shape}')\n",
        "print(f'y_train : {y_train.shape}')\n",
        "print(f'y_test : {y_test.shape}')"
      ],
      "metadata": {
        "colab": {
          "base_uri": "https://localhost:8080/"
        },
        "id": "xcAwjnFplz6W",
        "outputId": "e0d7a875-0907-4dfd-8cda-2a07ec23c01e"
      },
      "execution_count": 26,
      "outputs": [
        {
          "output_type": "stream",
          "name": "stdout",
          "text": [
            "X_train : (14303, 96661)\n",
            "X_test : (3576, 96661)\n",
            "y_train : (14303,)\n",
            "y_test : (3576,)\n"
          ]
        }
      ]
    },
    {
      "cell_type": "markdown",
      "source": [
        "### Logistic Regression"
      ],
      "metadata": {
        "id": "8pqX4HAznAod"
      }
    },
    {
      "cell_type": "code",
      "source": [
        "# Create a classification model (e.g., Logistic Regression)\n",
        "model = LogisticRegression()\n",
        "model.fit(X_train, y_train)"
      ],
      "metadata": {
        "colab": {
          "base_uri": "https://localhost:8080/",
          "height": 234
        },
        "id": "o7u2yYiok_31",
        "outputId": "b61b3547-0be2-41d0-a2d2-ec71842ac9db"
      },
      "execution_count": 27,
      "outputs": [
        {
          "output_type": "stream",
          "name": "stderr",
          "text": [
            "/usr/local/lib/python3.10/dist-packages/sklearn/linear_model/_logistic.py:458: ConvergenceWarning: lbfgs failed to converge (status=1):\n",
            "STOP: TOTAL NO. of ITERATIONS REACHED LIMIT.\n",
            "\n",
            "Increase the number of iterations (max_iter) or scale the data as shown in:\n",
            "    https://scikit-learn.org/stable/modules/preprocessing.html\n",
            "Please also refer to the documentation for alternative solver options:\n",
            "    https://scikit-learn.org/stable/modules/linear_model.html#logistic-regression\n",
            "  n_iter_i = _check_optimize_result(\n"
          ]
        },
        {
          "output_type": "execute_result",
          "data": {
            "text/plain": [
              "LogisticRegression()"
            ],
            "text/html": [
              "<style>#sk-container-id-2 {color: black;background-color: white;}#sk-container-id-2 pre{padding: 0;}#sk-container-id-2 div.sk-toggleable {background-color: white;}#sk-container-id-2 label.sk-toggleable__label {cursor: pointer;display: block;width: 100%;margin-bottom: 0;padding: 0.3em;box-sizing: border-box;text-align: center;}#sk-container-id-2 label.sk-toggleable__label-arrow:before {content: \"▸\";float: left;margin-right: 0.25em;color: #696969;}#sk-container-id-2 label.sk-toggleable__label-arrow:hover:before {color: black;}#sk-container-id-2 div.sk-estimator:hover label.sk-toggleable__label-arrow:before {color: black;}#sk-container-id-2 div.sk-toggleable__content {max-height: 0;max-width: 0;overflow: hidden;text-align: left;background-color: #f0f8ff;}#sk-container-id-2 div.sk-toggleable__content pre {margin: 0.2em;color: black;border-radius: 0.25em;background-color: #f0f8ff;}#sk-container-id-2 input.sk-toggleable__control:checked~div.sk-toggleable__content {max-height: 200px;max-width: 100%;overflow: auto;}#sk-container-id-2 input.sk-toggleable__control:checked~label.sk-toggleable__label-arrow:before {content: \"▾\";}#sk-container-id-2 div.sk-estimator input.sk-toggleable__control:checked~label.sk-toggleable__label {background-color: #d4ebff;}#sk-container-id-2 div.sk-label input.sk-toggleable__control:checked~label.sk-toggleable__label {background-color: #d4ebff;}#sk-container-id-2 input.sk-hidden--visually {border: 0;clip: rect(1px 1px 1px 1px);clip: rect(1px, 1px, 1px, 1px);height: 1px;margin: -1px;overflow: hidden;padding: 0;position: absolute;width: 1px;}#sk-container-id-2 div.sk-estimator {font-family: monospace;background-color: #f0f8ff;border: 1px dotted black;border-radius: 0.25em;box-sizing: border-box;margin-bottom: 0.5em;}#sk-container-id-2 div.sk-estimator:hover {background-color: #d4ebff;}#sk-container-id-2 div.sk-parallel-item::after {content: \"\";width: 100%;border-bottom: 1px solid gray;flex-grow: 1;}#sk-container-id-2 div.sk-label:hover label.sk-toggleable__label {background-color: #d4ebff;}#sk-container-id-2 div.sk-serial::before {content: \"\";position: absolute;border-left: 1px solid gray;box-sizing: border-box;top: 0;bottom: 0;left: 50%;z-index: 0;}#sk-container-id-2 div.sk-serial {display: flex;flex-direction: column;align-items: center;background-color: white;padding-right: 0.2em;padding-left: 0.2em;position: relative;}#sk-container-id-2 div.sk-item {position: relative;z-index: 1;}#sk-container-id-2 div.sk-parallel {display: flex;align-items: stretch;justify-content: center;background-color: white;position: relative;}#sk-container-id-2 div.sk-item::before, #sk-container-id-2 div.sk-parallel-item::before {content: \"\";position: absolute;border-left: 1px solid gray;box-sizing: border-box;top: 0;bottom: 0;left: 50%;z-index: -1;}#sk-container-id-2 div.sk-parallel-item {display: flex;flex-direction: column;z-index: 1;position: relative;background-color: white;}#sk-container-id-2 div.sk-parallel-item:first-child::after {align-self: flex-end;width: 50%;}#sk-container-id-2 div.sk-parallel-item:last-child::after {align-self: flex-start;width: 50%;}#sk-container-id-2 div.sk-parallel-item:only-child::after {width: 0;}#sk-container-id-2 div.sk-dashed-wrapped {border: 1px dashed gray;margin: 0 0.4em 0.5em 0.4em;box-sizing: border-box;padding-bottom: 0.4em;background-color: white;}#sk-container-id-2 div.sk-label label {font-family: monospace;font-weight: bold;display: inline-block;line-height: 1.2em;}#sk-container-id-2 div.sk-label-container {text-align: center;}#sk-container-id-2 div.sk-container {/* jupyter's `normalize.less` sets `[hidden] { display: none; }` but bootstrap.min.css set `[hidden] { display: none !important; }` so we also need the `!important` here to be able to override the default hidden behavior on the sphinx rendered scikit-learn.org. See: https://github.com/scikit-learn/scikit-learn/issues/21755 */display: inline-block !important;position: relative;}#sk-container-id-2 div.sk-text-repr-fallback {display: none;}</style><div id=\"sk-container-id-2\" class=\"sk-top-container\"><div class=\"sk-text-repr-fallback\"><pre>LogisticRegression()</pre><b>In a Jupyter environment, please rerun this cell to show the HTML representation or trust the notebook. <br />On GitHub, the HTML representation is unable to render, please try loading this page with nbviewer.org.</b></div><div class=\"sk-container\" hidden><div class=\"sk-item\"><div class=\"sk-estimator sk-toggleable\"><input class=\"sk-toggleable__control sk-hidden--visually\" id=\"sk-estimator-id-2\" type=\"checkbox\" checked><label for=\"sk-estimator-id-2\" class=\"sk-toggleable__label sk-toggleable__label-arrow\">LogisticRegression</label><div class=\"sk-toggleable__content\"><pre>LogisticRegression()</pre></div></div></div></div></div>"
            ]
          },
          "metadata": {},
          "execution_count": 27
        }
      ]
    },
    {
      "cell_type": "code",
      "source": [
        "# Evaluate the model\n",
        "accuracy = model.score(X_test, y_test)\n",
        "print(\"Accuracy:\", accuracy)"
      ],
      "metadata": {
        "colab": {
          "base_uri": "https://localhost:8080/"
        },
        "id": "tUn_XNa-WEGR",
        "outputId": "39e5ba14-45e5-407d-b74a-c8fdc697b61c"
      },
      "execution_count": 28,
      "outputs": [
        {
          "output_type": "stream",
          "name": "stdout",
          "text": [
            "Accuracy: 0.9807046979865772\n"
          ]
        }
      ]
    },
    {
      "cell_type": "markdown",
      "source": [
        "### custom test "
      ],
      "metadata": {
        "id": "ULwDS8i3nFS1"
      }
    },
    {
      "cell_type": "code",
      "source": [
        "# Sample test data\n",
        "sample_test = {\n",
        "    'company_profile': \"We are a leading company in the tech industry.\",\n",
        "    'description': \"We are looking for a skilled software engineer with experience in Python.\",\n",
        "    'requirements': \"Candidates must have a Bachelor's degree in Computer Science.\"\n",
        "}\n"
      ],
      "metadata": {
        "id": "xH_1UgC4mvKe"
      },
      "execution_count": 29,
      "outputs": []
    },
    {
      "cell_type": "code",
      "source": [
        "# vectorize the test sample\n",
        "tes_vec = vectorizer.transform([sample_test['company_profile'] + ' ' +\n",
        "                                    sample_test['description'] + ' ' +\n",
        "                                    sample_test['requirements']])"
      ],
      "metadata": {
        "id": "CQncsSTRmvnN"
      },
      "execution_count": 30,
      "outputs": []
    },
    {
      "cell_type": "code",
      "source": [
        "# predict the test sample\n",
        "pred = model.predict(tes_vec)\n",
        "pred"
      ],
      "metadata": {
        "colab": {
          "base_uri": "https://localhost:8080/"
        },
        "id": "GEAXneyVncKc",
        "outputId": "bca81b36-acc3-48ae-af2d-253500281dd9"
      },
      "execution_count": 31,
      "outputs": [
        {
          "output_type": "execute_result",
          "data": {
            "text/plain": [
              "array([0])"
            ]
          },
          "metadata": {},
          "execution_count": 31
        }
      ]
    },
    {
      "cell_type": "code",
      "source": [
        "# Output the predictions\n",
        "if pred[0] == 1:\n",
        "    print(\"fraudulent.\")\n",
        "else:\n",
        "    print(\"honest.\")"
      ],
      "metadata": {
        "colab": {
          "base_uri": "https://localhost:8080/"
        },
        "id": "10IaHddknngN",
        "outputId": "4c6f7016-8066-49bf-dd3b-0b3eab420f4e"
      },
      "execution_count": 32,
      "outputs": [
        {
          "output_type": "stream",
          "name": "stdout",
          "text": [
            "honest.\n"
          ]
        }
      ]
    }
  ]
}